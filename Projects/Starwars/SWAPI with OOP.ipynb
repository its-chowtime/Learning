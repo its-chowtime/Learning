{
 "cells": [
  {
   "cell_type": "code",
   "execution_count": 75,
   "metadata": {},
   "outputs": [],
   "source": [
    "import requests\n",
    "import json\n",
    "import pandas as pd\n",
    "import numpy as np"
   ]
  },
  {
   "cell_type": "code",
   "execution_count": 76,
   "metadata": {},
   "outputs": [],
   "source": [
    "# added Classes and Methods\n",
    "class Category:\n",
    "    def __init__(self, name):\n",
    "        self.name = name\n",
    "    # how can I get the data type\n",
    "    def key(self):\n",
    "        requests.get('https://swapi.co/api/' + self.name).json()\n",
    "    def request(self):\n",
    "        return requests.get('https://swapi.co/api/' + self.name)\n",
    "    def links(self):\n",
    "        return ('https://swapi.co/api/' + self.name)\n",
    "    def jsonformat(self):\n",
    "        return requests.get('https://swapi.co/api/' + self.name).json()\n",
    "    # need to fix this\n",
    "    def allpages(self):\n",
    "        jsonf = requests.get('https://swapi.co/api/' + self.name).json()\n",
    "        pages = jsonf['count'] // 10\n",
    "        print('There are ' + str(pages) + ' pages')\n",
    "        for num in range(0,pages+1):\n",
    "            link = jsonf['next'].replace(str(jsonf['next'][-1]),str(num + 1))\n",
    "            print(link)\n",
    "    def appenddf(self):\n",
    "        emp_df = pd.DataFrame()\n",
    "        jsonf = requests.get('https://swapi.co/api/' + self.name).json()\n",
    "        pages = jsonf['count'] // 10\n",
    "        print('There are ' + str(pages) + ' pages')\n",
    "        for num in range(0,pages+1):\n",
    "            link = jsonf['next'].replace(str(jsonf['next'][-1]),str(num + 1))\n",
    "            print(link)\n",
    "            \n",
    "\n",
    "            starwars = Category('')\n",
    "people = Category('people')\n",
    "planets = Category('planets')\n",
    "films = Category('films')\n",
    "species = Category('species')\n",
    "vehicles = Category('vehicles')\n",
    "starships = Category('starships')"
   ]
  },
  {
   "cell_type": "code",
   "execution_count": 77,
   "metadata": {},
   "outputs": [
    {
     "name": "stdout",
     "output_type": "stream",
     "text": [
      "There are 8 pages\n",
      "https://swapi.co/api/people/?page=1\n",
      "https://swapi.co/api/people/?page=2\n",
      "https://swapi.co/api/people/?page=3\n",
      "https://swapi.co/api/people/?page=4\n",
      "https://swapi.co/api/people/?page=5\n",
      "https://swapi.co/api/people/?page=6\n",
      "https://swapi.co/api/people/?page=7\n",
      "https://swapi.co/api/people/?page=8\n",
      "https://swapi.co/api/people/?page=9\n"
     ]
    }
   ],
   "source": [
    "people.allpages()"
   ]
  },
  {
   "cell_type": "markdown",
   "metadata": {},
   "source": [
    "Paused here | I am trying to append dataframes into the new df"
   ]
  },
  {
   "cell_type": "code",
   "execution_count": null,
   "metadata": {},
   "outputs": [],
   "source": [
    "class Test:\n",
    "  def __init__(self,name):\n",
    "    self.name = name\n",
    "  def appenddf(self):\n",
    "        emp_df = pd.DataFrame()\n",
    "        jsonf0 = requests.get('https://swapi.co/api/' + self.name).json()\n",
    "        pages = jsonf0['count'] // 10\n",
    "        print('There are ' + str(pages) + ' pages')\n",
    "        for num in range(0,pages+1):\n",
    "            link = jsonf0['next'].replace(str(jsonf0['next'][-1]),str(num + 1))\n",
    "            print(link)\n",
    "            emp_df = pd.DataFrame(jsonf0['results'])\n",
    "        return emp_df\n",
    "\n",
    "testing = Test('people')\n",
    "testing.appenddf()"
   ]
  }
 ],
 "metadata": {
  "kernelspec": {
   "display_name": "Python 3",
   "language": "python",
   "name": "python3"
  },
  "language_info": {
   "codemirror_mode": {
    "name": "ipython",
    "version": 3
   },
   "file_extension": ".py",
   "mimetype": "text/x-python",
   "name": "python",
   "nbconvert_exporter": "python",
   "pygments_lexer": "ipython3",
   "version": "3.7.3"
  }
 },
 "nbformat": 4,
 "nbformat_minor": 2
}
