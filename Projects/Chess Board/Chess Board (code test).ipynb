{
 "cells": [
  {
   "cell_type": "code",
   "execution_count": 57,
   "metadata": {},
   "outputs": [
    {
     "name": "stdout",
     "output_type": "stream",
     "text": [
      "A1 A2 A3 A4 A5 A6 A7 A8 \n",
      "B1 B2 B3 B4 B5 B6 B7 B8 \n",
      "C1 C2 C3 C4 C5 C6 C7 C8 \n",
      "D1 D2 D3 D4 D5 D6 D7 D8 \n",
      "E1 E2 E3 E4 E5 E6 E7 E8 \n",
      "F1 F2 F3 F4 F5 F6 F7 F8 \n",
      "G1 G2 G3 G4 G5 G6 G7 G8 \n",
      "H1 H2 H3 H4 H5 H6 H7 H8 \n"
     ]
    }
   ],
   "source": [
    "# Chessboard\n",
    "\n",
    "import numpy as np\n",
    "import random\n",
    "\n",
    "'''\n",
    "# Combine list a with b to create coordinates\n",
    "\n",
    "a = ['A','B','C','D','E','F','G','H']\n",
    "b = ['1','2','3','4','5','6','7','8']\n",
    "\n",
    "new_list = []\n",
    "for x in range(len(b)):\n",
    "    cb_coord = str(a[0]) + str(b.pop(0))\n",
    "    new_list.append(cb_coord)\n",
    "print(new_list)\n",
    "\n",
    "'''\n",
    "\n",
    "'''\n",
    "aa = ['A','B','C','D','E','F','G','H']\n",
    "bb = ['1','2','3','4','5','6','7','8']\n",
    "newnew = []\n",
    "for x in range(len(bb)):\n",
    "    cooord = aa[x] + bb[x]\n",
    "    print(cooord)\n",
    "    newnew.append(cooord)\n",
    "print(newnew)\n",
    "\n",
    "for x in range(len(b)):\n",
    "    cooord = aa[x] + bb[x]\n",
    "'''\n",
    "aa = ['A','B','C','D','E','F','G','H']\n",
    "bb = ['1','2','3','4','5','6','7','8']\n",
    "\n",
    "for x in aa:\n",
    "    for y in bb:\n",
    "        print(x, end=\"\")\n",
    "        print(y, end=\" \")\n",
    "    print()"
   ]
  },
  {
   "cell_type": "code",
   "execution_count": 17,
   "metadata": {},
   "outputs": [
    {
     "name": "stdout",
     "output_type": "stream",
     "text": [
      "A1 A2 A3 A4 A5 A6 A7 A8 \n",
      "B1 B2 B3 B4 B5 B6 B7 B8 \n",
      "C1 C2 C3 C4 C5 C6 C7 C8 \n",
      "D1 D2 D3 D4 D5 D6 D7 D8 \n",
      "E1 E2 E3 E4 E5 E6 E7 E8 \n",
      "F1 F2 F3 F4 F5 F6 F7 F8 \n",
      "G1 G2 G3 G4 G5 G6 G7 G8 \n",
      "H1 H2 H3 H4 H5 H6 H7 H8 \n"
     ]
    }
   ],
   "source": [
    "def chess_board():\n",
    "    aa = ['A','B','C','D','E','F','G','H']\n",
    "    bb = ['1','2','3','4','5','6','7','8']\n",
    "\n",
    "    for x in aa:\n",
    "        for y in bb:\n",
    "            print(x, end=\"\")\n",
    "            print(y, end=\" \")\n",
    "        print()\n",
    "chess_board()"
   ]
  },
  {
   "cell_type": "code",
   "execution_count": 110,
   "metadata": {},
   "outputs": [],
   "source": [
    "c_b = [['A1','A2','A3','A4','A5','A6','A7','A8'],\n",
    "       ['B1','B2','B3','B4','B5','B6','B7','B8'],\n",
    "       ['C1','C2','C3','C4','C5','C6','C7','C8'],\n",
    "       ['D1','D2','D3','D4','D5','D6','D7','D8'],\n",
    "       ['E1','E2','E3','E4','E5','E6','E7','E8'],\n",
    "       ['F1','F2','F3','F4','F5','F6','F7','F8'],\n",
    "       ['G1','G2','G3','G4','G5','G6','G7','G8'],\n",
    "       ['H1','H2','H3','H4','H5','H6','H7','H8']\n",
    "       ]"
   ]
  },
  {
   "cell_type": "code",
   "execution_count": 109,
   "metadata": {},
   "outputs": [
    {
     "name": "stdout",
     "output_type": "stream",
     "text": [
      "H1H2H3H4H5H6H7H8['H1', 'H2', 'H3', 'H4', 'H5', 'H6', 'H7', 'H8']\n"
     ]
    }
   ],
   "source": [
    "listt =[]\n",
    "for d in range(8):\n",
    "    row_d = aa[7] + bb[d]\n",
    "    print(row_d, end ='')\n",
    "    listt.append(row_d)\n",
    "print(listt)"
   ]
  },
  {
   "cell_type": "code",
   "execution_count": 111,
   "metadata": {
    "scrolled": true
   },
   "outputs": [
    {
     "name": "stdout",
     "output_type": "stream",
     "text": [
      "A1 A2 A3 A4 A5 A6 A7 A8 \n",
      "B1 B2 B3 B4 B5 B6 B7 B8 \n",
      "C1 C2 C3 C4 C5 C6 C7 C8 \n",
      "D1 D2 D3 D4 D5 D6 D7 D8 \n",
      "E1 E2 E3 E4 E5 E6 E7 E8 \n",
      "F1 F2 F3 F4 F5 F6 F7 F8 \n",
      "G1 G2 G3 G4 G5 G6 G7 G8 \n",
      "H1 H2 H3 H4 H5 H6 H7 H8 \n"
     ]
    }
   ],
   "source": [
    "for xx in range(8):\n",
    "    for yy in range(8):\n",
    "        all_rows = aa[xx] + bb[yy]\n",
    "        print(all_rows, end =' ')\n",
    "    print()"
   ]
  },
  {
   "cell_type": "markdown",
   "metadata": {},
   "source": [
    "\n",
    "row_a = ['A','B','C','D','E','F','G','H']\n",
    "col_b = ['1','2','3','4','5','6','7','8']\n",
    "\n",
    "for this in range(len(a)):\n",
    "    for that in range(len(a[this])):\n",
    "        print(a[this][that], end=\" \")\n",
    "    print()"
   ]
  },
  {
   "cell_type": "code",
   "execution_count": 102,
   "metadata": {},
   "outputs": [
    {
     "name": "stdout",
     "output_type": "stream",
     "text": [
      "A1 A2 A3 A4 A5 A6 A7 A8 \n",
      "B1 B2 B3 B4 B5 B6 B7 B8 \n",
      "C1 C2 C3 C4 C5 C6 C7 C8 \n",
      "D1 D2 D3 D4 D5 D6 D7 D8 \n",
      "E1 E2 E3 E4 E5 E6 E7 E8 \n",
      "F1 F2 F3 F4 F5 F6 F7 F8 \n",
      "G1 G2 G3 G4 G5 G6 G7 G8 \n",
      "H1 H2 H3 H4 H5 H6 H7 H8 \n",
      "['A1', 'A2', 'A3', 'A4', 'A5', 'A6', 'A7', 'A8', 'B1', 'B2', 'B3', 'B4', 'B5', 'B6', 'B7', 'B8', 'C1', 'C2', 'C3', 'C4', 'C5', 'C6', 'C7', 'C8', 'D1', 'D2', 'D3', 'D4', 'D5', 'D6', 'D7', 'D8', 'E1', 'E2', 'E3', 'E4', 'E5', 'E6', 'E7', 'E8', 'F1', 'F2', 'F3', 'F4', 'F5', 'F6', 'F7', 'F8', 'G1', 'G2', 'G3', 'G4', 'G5', 'G6', 'G7', 'G8', 'H1', 'H2', 'H3', 'H4', 'H5', 'H6', 'H7', 'H8']\n"
     ]
    }
   ],
   "source": [
    "listtt = []\n",
    "for xx in range(8):\n",
    "    for yy in range(8):\n",
    "        all_rows = aa[xx] + bb[yy]\n",
    "        print(all_rows, end =' ')\n",
    "        listtt.append(all_rows)\n",
    "    print()\n",
    "print(listtt)"
   ]
  },
  {
   "cell_type": "code",
   "execution_count": null,
   "metadata": {},
   "outputs": [],
   "source": []
  }
 ],
 "metadata": {
  "kernelspec": {
   "display_name": "Python 3",
   "language": "python",
   "name": "python3"
  }
 },
 "nbformat": 4,
 "nbformat_minor": 2
}
